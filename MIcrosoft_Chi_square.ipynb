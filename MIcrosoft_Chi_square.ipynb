{
 "cells": [
  {
   "cell_type": "code",
   "execution_count": 1,
   "metadata": {},
   "outputs": [],
   "source": [
    "import pandas as pd\n",
    "import numpy as np\n",
    "import matplotlib.pyplot as plt\n",
    "import seaborn as sbn\n",
    "from sklearn.model_selection import train_test_split\n",
    "from sklearn.preprocessing import OneHotEncoder, LabelEncoder\n",
    "from sklearn.linear_model import LogisticRegression\n",
    "from sklearn.metrics import accuracy_score, confusion_matrix, roc_auc_score, roc_curve\n",
    "import warnings\n",
    "import scipy.stats\n",
    "\n",
    "warnings.filterwarnings('ignore')\n",
    "\n",
    "#dropping columns with missing value more than 50% or one value or all different value\n",
    "\n",
    "microsoft_data =pd.read_csv('Microsoft_Data.csv')\n",
    "missing_value_df=pd.DataFrame({'Columns Name':microsoft_data.columns,\n",
    "                  'No. of missing values': microsoft_data.isnull().sum(),\n",
    "                  '% of missing values': (microsoft_data.isnull().sum()/microsoft_data.shape[0])*100})\n",
    "missing_value_df.sort_values(by='% of missing values', ascending=False)\n",
    "\n",
    "for col in microsoft_data.columns:\n",
    "    if ((microsoft_data[col].isnull().sum()/microsoft_data.shape[0])*100) > 50 or len(microsoft_data[col].unique())==1 or len(microsoft_data[col].unique())==microsoft_data.shape[0]:\n",
    "        microsoft_data.drop(columns=col, inplace=True)  \n",
    "        \n",
    "Y=microsoft_data['HasDetections']\n",
    "microsoft_data.drop(columns='HasDetections', inplace=True)\n"
   ]
  },
  {
   "cell_type": "code",
   "execution_count": 2,
   "metadata": {},
   "outputs": [],
   "source": [
    "# changing columns dtype to object\n",
    "\n",
    "for col in microsoft_data.columns:\n",
    "    if microsoft_data[col].dtypes=='float64' or microsoft_data[col].dtypes=='int64':\n",
    "        microsoft_data[col]=microsoft_data[col].astype('object')"
   ]
  },
  {
   "cell_type": "code",
   "execution_count": 3,
   "metadata": {},
   "outputs": [],
   "source": [
    "#filling nan values with mode and converting it datatype back to object\n",
    "\n",
    "for col in microsoft_data.columns:\n",
    "    microsoft_data[col]=microsoft_data[col].fillna(microsoft_data[col].mode()[0])\n",
    "    \n",
    "for col in microsoft_data.columns:\n",
    "    if microsoft_data[col].dtypes=='float64' or microsoft_data[col].dtypes=='int64':\n",
    "        microsoft_data[col]=microsoft_data[col].astype('object')"
   ]
  },
  {
   "cell_type": "code",
   "execution_count": 4,
   "metadata": {},
   "outputs": [],
   "source": [
    "# for remomving unecessary columns\n",
    "\n",
    "for col in microsoft_data.columns:\n",
    "    if len(microsoft_data[col].unique())==1 or len(microsoft_data[col].unique())==microsoft_data.shape[0]:\n",
    "        microsoft_data.drop(columns=col, inplace=True)"
   ]
  },
  {
   "cell_type": "code",
   "execution_count": 5,
   "metadata": {},
   "outputs": [],
   "source": [
    "# testing relation using CHI Square\n",
    "\n",
    "\n",
    "p_value=[]\n",
    "column_name=[]\n",
    "\n",
    "for col in microsoft_data.columns:\n",
    "    crosstab = pd.crosstab(microsoft_data[col],Y)\n",
    "    #print(crosstab)\n",
    "    result=scipy.stats.chi2_contingency(crosstab)\n",
    "    p_value.append(result[1])\n",
    "    column_name.append(col)\n",
    "    \n",
    "p_value_df=pd.DataFrame({'ColumnNames': column_name,\n",
    "                        'P-Value': p_value})\n"
   ]
  },
  {
   "cell_type": "code",
   "execution_count": 6,
   "metadata": {},
   "outputs": [],
   "source": [
    "# dropping columns whose p values is greater than .05\n",
    "\n",
    "for i in range(0, len(p_value_df)):\n",
    "    if p_value_df['P-Value'][i] < 0.05:\n",
    "        p_value_df.drop(index=i, inplace=True)\n",
    "        \n",
    "for col in p_value_df.ColumnNames:\n",
    "    microsoft_data.drop(columns=col, inplace=True)\n",
    "    "
   ]
  },
  {
   "cell_type": "code",
   "execution_count": 7,
   "metadata": {},
   "outputs": [],
   "source": [
    "# train test spliiting\n",
    "\n",
    "X_train,X_test,Y_train,Y_test=train_test_split(microsoft_data,Y,test_size=0.20,random_state=42)"
   ]
  },
  {
   "cell_type": "code",
   "execution_count": 9,
   "metadata": {},
   "outputs": [],
   "source": [
    "class LabelEncoderExt(object):\n",
    "    def __init__(self):\n",
    "        \"\"\"\n",
    "        It differs from LabelEncoder by handling new classes and providing a value for it [Unknown]\n",
    "        Unknown will be added in fit and transform will take care of new item. It gives unknown class id\n",
    "        \"\"\"\n",
    "        self.label_encoder = LabelEncoder()\n",
    "        # self.classes_ = self.label_encoder.classes_\n",
    "\n",
    "    def fit(self, data_list):\n",
    "        \"\"\"\n",
    "        This will fit the encoder for all the unique values and introduce unknown value\n",
    "        :param data_list: A list of string\n",
    "        :return: self\n",
    "        \"\"\"\n",
    "        self.label_encoder = self.label_encoder.fit(list(data_list) + ['Unknown'])\n",
    "        self.classes_ = self.label_encoder.classes_\n",
    "\n",
    "        return self\n",
    "\n",
    "    def transform(self, data_list):\n",
    "        \"\"\"\n",
    "        This will transform the data_list to id list where the new values get assigned to Unknown class\n",
    "        :param data_list:\n",
    "        :return:\n",
    "        \"\"\"\n",
    "        new_data_list = list(data_list)\n",
    "        for unique_item in np.unique(data_list):\n",
    "            if unique_item not in self.label_encoder.classes_:\n",
    "                new_data_list = ['Unknown' if x==unique_item else x for x in new_data_list]\n",
    "\n",
    "        return self.label_encoder.transform(new_data_list)\n"
   ]
  },
  {
   "cell_type": "code",
   "execution_count": 10,
   "metadata": {},
   "outputs": [],
   "source": [
    "# label encoding\n",
    "\n",
    "        \n",
    "le=LabelEncoderExt()\n",
    "\n",
    "for col in microsoft_data.columns:\n",
    "    le.fit(X_train[col])\n",
    "    X_train[col]=le.transform(X_train[col])\n",
    "    X_test[col]=le.transform(X_test[col])"
   ]
  },
  {
   "cell_type": "code",
   "execution_count": 1,
   "metadata": {
    "scrolled": true
   },
   "outputs": [
    {
     "ename": "NameError",
     "evalue": "name 'LogisticRegression' is not defined",
     "output_type": "error",
     "traceback": [
      "\u001b[1;31m---------------------------------------------------------------------------\u001b[0m",
      "\u001b[1;31mNameError\u001b[0m                                 Traceback (most recent call last)",
      "\u001b[1;32m<ipython-input-1-433f1b5296ea>\u001b[0m in \u001b[0;36m<module>\u001b[1;34m\u001b[0m\n\u001b[0;32m      1\u001b[0m \u001b[1;31m#\u001b[0m\u001b[1;33m\u001b[0m\u001b[1;33m\u001b[0m\u001b[1;33m\u001b[0m\u001b[0m\n\u001b[0;32m      2\u001b[0m \u001b[1;33m\u001b[0m\u001b[0m\n\u001b[1;32m----> 3\u001b[1;33m \u001b[0mlog_reg\u001b[0m\u001b[1;33m=\u001b[0m\u001b[0mLogisticRegression\u001b[0m\u001b[1;33m(\u001b[0m\u001b[1;33m)\u001b[0m\u001b[1;33m\u001b[0m\u001b[1;33m\u001b[0m\u001b[0m\n\u001b[0m\u001b[0;32m      4\u001b[0m \u001b[0mlog_reg\u001b[0m\u001b[1;33m.\u001b[0m\u001b[0mfit\u001b[0m\u001b[1;33m(\u001b[0m\u001b[0mX_train\u001b[0m\u001b[1;33m,\u001b[0m\u001b[0mY_train\u001b[0m\u001b[1;33m)\u001b[0m\u001b[1;33m\u001b[0m\u001b[1;33m\u001b[0m\u001b[0m\n\u001b[0;32m      5\u001b[0m \u001b[0mpred_data_1\u001b[0m\u001b[1;33m=\u001b[0m\u001b[0mlog_reg\u001b[0m\u001b[1;33m.\u001b[0m\u001b[0mpredict\u001b[0m\u001b[1;33m(\u001b[0m\u001b[0mX_test\u001b[0m\u001b[1;33m)\u001b[0m\u001b[1;33m\u001b[0m\u001b[1;33m\u001b[0m\u001b[0m\n",
      "\u001b[1;31mNameError\u001b[0m: name 'LogisticRegression' is not defined"
     ]
    }
   ],
   "source": [
    "log_reg=LogisticRegression()\n",
    "log_reg.fit(X_train,Y_train)\n",
    "pred_data_1=log_reg.predict(X_test)\n",
    "\n",
    "confusion_matrix(Y_test, pred_data_1)\n",
    "\n",
    "comparisons_df=pd.DataFrame({'Actuals':Y_test,\n",
    "                            'Predictions':pred_data_1})\n",
    "\n",
    "comparisons_df\n",
    "pred_prob_data=log_reg.predict_proba(X_test)[::,1]\n",
    "\n",
    "fpr,tpr,thresholds=roc_curve(Y_test,pred_prob_data)\n",
    " \n",
    "auc=roc_auc_score(Y_test,pred_data_1)\n",
    "\n",
    "plt.plot(fpr,tpr,label=\"auc=\"+str(auc))\n",
    "plt.xlabel('False Positive Rate')\n",
    "plt.ylabel('True Positive Rate')\n",
    "plt.title('AUC_ROC Curve')\n",
    "plt.legend(loc=8)\n",
    "plt.show()"
   ]
  },
  {
   "cell_type": "code",
   "execution_count": null,
   "metadata": {},
   "outputs": [],
   "source": []
  }
 ],
 "metadata": {
  "kernelspec": {
   "display_name": "Python 3",
   "language": "python",
   "name": "python3"
  },
  "language_info": {
   "codemirror_mode": {
    "name": "ipython",
    "version": 3
   },
   "file_extension": ".py",
   "mimetype": "text/x-python",
   "name": "python",
   "nbconvert_exporter": "python",
   "pygments_lexer": "ipython3",
   "version": "3.7.3"
  }
 },
 "nbformat": 4,
 "nbformat_minor": 2
}
