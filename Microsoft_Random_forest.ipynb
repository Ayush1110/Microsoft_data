{
 "cells": [
  {
   "cell_type": "code",
   "execution_count": 8,
   "metadata": {},
   "outputs": [],
   "source": [
    "import pandas as pd\n",
    "import numpy as np\n",
    "import matplotlib.pyplot as plt\n",
    "import seaborn as sbn\n",
    "from sklearn.model_selection import train_test_split\n",
    "from sklearn.preprocessing import OneHotEncoder, LabelEncoder\n",
    "from sklearn.linear_model import LogisticRegression\n",
    "from sklearn.metrics import accuracy_score, confusion_matrix, roc_auc_score, roc_curve\n",
    "import warnings\n",
    "import scipy.stats\n",
    "from sklearn.tree import DecisionTreeClassifier\n",
    "from sklearn.model_selection import GridSearchCV\n",
    "from sklearn.model_selection import RandomizedSearchCV\n",
    "from sklearn.ensemble import RandomForestClassifier\n",
    "from sklearn.metrics import roc_auc_score\n",
    "from sklearn.metrics import roc_curve, accuracy_score\n",
    "from sklearn.metrics import precision_score\n",
    "\n",
    "warnings.filterwarnings('ignore')\n",
    "\n",
    "#dropping columns with missing value more than 50% or one value or all different value\n",
    "\n",
    "microsoft_data =pd.read_csv('Microsoft_Data.csv')\n",
    "missing_value_df=pd.DataFrame({'Columns Name':microsoft_data.columns,\n",
    "                  'No. of missing values': microsoft_data.isnull().sum(),\n",
    "                  '% of missing values': (microsoft_data.isnull().sum()/microsoft_data.shape[0])*100})\n",
    "missing_value_df.sort_values(by='% of missing values', ascending=False)\n",
    "\n",
    "for col in microsoft_data.columns:\n",
    "    if ((microsoft_data[col].isnull().sum()/microsoft_data.shape[0])*100) > 50 or len(microsoft_data[col].unique())==1 or len(microsoft_data[col].unique())==microsoft_data.shape[0]:\n",
    "        microsoft_data.drop(columns=col, inplace=True)  \n",
    "        \n",
    "Y=microsoft_data['HasDetections']\n",
    "microsoft_data.drop(columns='HasDetections', inplace=True)\n"
   ]
  },
  {
   "cell_type": "code",
   "execution_count": 9,
   "metadata": {},
   "outputs": [],
   "source": [
    "# changing columns dtype to object\n",
    "\n",
    "for col in microsoft_data.columns:\n",
    "    if microsoft_data[col].dtypes=='float64' or microsoft_data[col].dtypes=='int64':\n",
    "        microsoft_data[col]=microsoft_data[col].astype('object')\n",
    "        \n",
    "        \n",
    "#filling nan values with mode and converting it datatype back to object\n",
    "\n",
    "for col in microsoft_data.columns:\n",
    "    microsoft_data[col]=microsoft_data[col].fillna(microsoft_data[col].mode()[0])\n",
    "    \n",
    "for col in microsoft_data.columns:\n",
    "    if microsoft_data[col].dtypes=='float64' or microsoft_data[col].dtypes=='int64':\n",
    "        microsoft_data[col]=microsoft_data[col].astype('object')\n",
    "        \n",
    "# for remomving unecessary columns\n",
    "\n",
    "for col in microsoft_data.columns:\n",
    "    if len(microsoft_data[col].unique())==1 or len(microsoft_data[col].unique())==microsoft_data.shape[0]:\n",
    "        microsoft_data.drop(columns=col, inplace=True)"
   ]
  },
  {
   "cell_type": "code",
   "execution_count": 10,
   "metadata": {},
   "outputs": [],
   "source": [
    "# testing relation using CHI Square\n",
    "\n",
    "\n",
    "p_value=[]\n",
    "column_name=[]\n",
    "\n",
    "for col in microsoft_data.columns:\n",
    "    crosstab = pd.crosstab(microsoft_data[col],Y)\n",
    "    #print(crosstab)\n",
    "    result=scipy.stats.chi2_contingency(crosstab)\n",
    "    p_value.append(result[1])\n",
    "    column_name.append(col)\n",
    "    \n",
    "p_value_df=pd.DataFrame({'ColumnNames': column_name,\n",
    "                        'P-Value': p_value})\n"
   ]
  },
  {
   "cell_type": "code",
   "execution_count": 11,
   "metadata": {},
   "outputs": [],
   "source": [
    "# dropping columns whose p values is greater than .05\n",
    "\n",
    "for i in range(0, len(p_value_df)):\n",
    "    if p_value_df['P-Value'][i] < 0.05:\n",
    "        p_value_df.drop(index=i, inplace=True)\n",
    "        \n",
    "for col in p_value_df.ColumnNames:\n",
    "    microsoft_data.drop(columns=col, inplace=True)\n",
    "    "
   ]
  },
  {
   "cell_type": "code",
   "execution_count": 18,
   "metadata": {},
   "outputs": [],
   "source": [
    "# train test spliiting\n",
    "\n",
    "X_train,X_test,Y_train,Y_test=train_test_split(microsoft_data,Y,test_size=0.20,random_state=42)"
   ]
  },
  {
   "cell_type": "code",
   "execution_count": 14,
   "metadata": {},
   "outputs": [],
   "source": [
    "class LabelEncoderExt(object):\n",
    "    def __init__(self):\n",
    "        \"\"\"\n",
    "        It differs from LabelEncoder by handling new classes and providing a value for it [Unknown]\n",
    "        Unknown will be added in fit and transform will take care of new item. It gives unknown class id\n",
    "        \"\"\"\n",
    "        self.label_encoder = LabelEncoder()\n",
    "        # self.classes_ = self.label_encoder.classes_\n",
    "\n",
    "    def fit(self, data_list):\n",
    "        \"\"\"\n",
    "        This will fit the encoder for all the unique values and introduce unknown value\n",
    "        :param data_list: A list of string\n",
    "        :return: self\n",
    "        \"\"\"\n",
    "        self.label_encoder = self.label_encoder.fit(list(data_list) + ['Unknown'])\n",
    "        self.classes_ = self.label_encoder.classes_\n",
    "\n",
    "        return self\n",
    "\n",
    "    def transform(self, data_list):\n",
    "        \"\"\"\n",
    "        This will transform the data_list to id list where the new values get assigned to Unknown class\n",
    "        :param data_list:\n",
    "        :return:\n",
    "        \"\"\"\n",
    "        new_data_list = list(data_list)\n",
    "        for unique_item in np.unique(data_list):\n",
    "            if unique_item not in self.label_encoder.classes_:\n",
    "                new_data_list = ['Unknown' if x==unique_item else x for x in new_data_list]\n",
    "\n",
    "        return self.label_encoder.transform(new_data_list)\n"
   ]
  },
  {
   "cell_type": "code",
   "execution_count": 15,
   "metadata": {},
   "outputs": [],
   "source": [
    "# label encoding\n",
    "\n",
    "        \n",
    "le=LabelEncoderExt()\n",
    "\n",
    "for col in microsoft_data.columns:\n",
    "    le.fit(X_train[col]) \n",
    "    X_train[col]=le.transform(X_train[col])\n",
    "    X_test[col]=le.transform(X_test[col])"
   ]
  },
  {
   "cell_type": "code",
   "execution_count": 16,
   "metadata": {},
   "outputs": [
    {
     "name": "stdout",
     "output_type": "stream",
     "text": [
      "0.5818357998590556\n"
     ]
    }
   ],
   "source": [
    "#GRID SEARCH CV withmodel as DEcisionTree\n",
    "\n",
    "decision_tree= DecisionTreeClassifier(criterion='entropy')\n",
    "param_dict={'max_depth':[3,4,5],\n",
    "           'min_samples_split':[2,3,4,5,6],\n",
    "           'min_samples_leaf':[3,6,7,8,9]}\n",
    "grid_search=GridSearchCV(decision_tree,param_grid=param_dict,cv=5)\n",
    "grid_search.fit(X_train,Y_train)\n",
    "grid_pred=grid_search.predict(X_test)\n",
    "#dt1=DecisionTreeClassifier(random_state=42,max_depth=4,min_samples_leaf=7,min_samples_split=2)\n",
    "#dt1.fit(X_train,Y_train)\n",
    "#best_tree_pred=dt1.predict(X_test)\n",
    "\n",
    "print(accuracy_score(Y_test,grid_pred))\n",
    "#accuracy_score(Y_test,best_tree_pred)"
   ]
  },
  {
   "cell_type": "code",
   "execution_count": 17,
   "metadata": {},
   "outputs": [
    {
     "data": {
      "text/plain": [
       "0.5880902043692742"
      ]
     },
     "execution_count": 17,
     "metadata": {},
     "output_type": "execute_result"
    }
   ],
   "source": [
    "#GRid Search CV with model as Random Forest\n",
    "random_forest=RandomForestClassifier(criterion='gini',oob_score=False,random_state=42)\n",
    "param_dict_random={'max_depth':[3,4,5],\n",
    "           'min_samples_split':[2,3,4,5,6],\n",
    "           'min_samples_leaf':[3,6,7,8,9],\n",
    "                  'n_estimators':[10,20,30,40]}\n",
    "grid_search_random=GridSearchCV(random_forest,param_grid=param_dict_random,cv=5)\n",
    "grid_search_random.fit(X_train,Y_train)\n",
    "grid_pred_random=grid_search_random.predict(X_test)\n",
    "accuracy_score(Y_test,grid_pred_random)"
   ]
  },
  {
   "cell_type": "code",
   "execution_count": null,
   "metadata": {},
   "outputs": [],
   "source": [
    "    "
   ]
  }
 ],
 "metadata": {
  "kernelspec": {
   "display_name": "Python 3",
   "language": "python",
   "name": "python3"
  },
  "language_info": {
   "codemirror_mode": {
    "name": "ipython",
    "version": 3
   },
   "file_extension": ".py",
   "mimetype": "text/x-python",
   "name": "python",
   "nbconvert_exporter": "python",
   "pygments_lexer": "ipython3",
   "version": "3.7.3"
  }
 },
 "nbformat": 4,
 "nbformat_minor": 2
}
